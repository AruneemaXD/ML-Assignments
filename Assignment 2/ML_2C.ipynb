{
  "nbformat": 4,
  "nbformat_minor": 0,
  "metadata": {
    "colab": {
      "name": "Copy of ML 2C.ipynb",
      "provenance": [],
      "collapsed_sections": [],
      "toc_visible": true
    },
    "kernelspec": {
      "name": "python3",
      "display_name": "Python 3"
    },
    "language_info": {
      "name": "python"
    }
  },
  "cells": [
    {
      "cell_type": "markdown",
      "metadata": {
        "id": "83H30sBaJz7T"
      },
      "source": [
        "\n",
        "### Compare Algorithms\n",
        "\n"
      ]
    },
    {
      "cell_type": "code",
      "metadata": {
        "id": "rCnwClx_Juq5"
      },
      "source": [
        "import pandas as pd\n",
        "import numpy as np \n",
        "import matplotlib.pyplot as plt\n",
        "from sklearn import model_selection,preprocessing\n",
        "from sklearn.linear_model import LogisticRegression\n",
        "from sklearn.tree import DecisionTreeClassifier\n",
        "from sklearn.neighbors import KNeighborsClassifier\n",
        "from sklearn.discriminant_analysis import LinearDiscriminantAnalysis\n",
        "from sklearn.naive_bayes import GaussianNB\n",
        "from sklearn.svm import SVC\n",
        "from sklearn.linear_model import Perceptron\n",
        "from sklearn.neural_network import MLPClassifier\n",
        "from sklearn.metrics import accuracy_score\n",
        "import statistics\n",
        "import seaborn as sns"
      ],
      "execution_count": null,
      "outputs": []
    },
    {
      "cell_type": "code",
      "metadata": {
        "id": "-xp2-e0YJ9qh"
      },
      "source": [
        "# load dataset\n",
        "data = pd.read_csv('dataset_comb.csv')\n",
        "data = data.sample(frac = 1)\n",
        "data.drop(['id'], axis = 1, inplace = True)\n",
        "col = list(data.columns)\n",
        "col.pop()\n",
        "X = data[col].to_numpy()\n",
        "X = preprocessing.normalize(X)\n",
        "Y = data['Class'].to_numpy()\n",
        "le = preprocessing.LabelEncoder()\n",
        "le.fit(Y)\n",
        "Y = np.array(le.transform(Y))"
      ],
      "execution_count": null,
      "outputs": []
    },
    {
      "cell_type": "code",
      "metadata": {
        "colab": {
          "base_uri": "https://localhost:8080/"
        },
        "id": "eNId9bH7DbUn",
        "outputId": "611bebde-cb16-4cbe-d154-2613a21a7e80"
      },
      "source": [
        "Y"
      ],
      "execution_count": null,
      "outputs": [
        {
          "output_type": "execute_result",
          "data": {
            "text/plain": [
              "array([1, 0, 0, ..., 0, 0, 0])"
            ]
          },
          "metadata": {
            "tags": []
          },
          "execution_count": 5
        }
      ]
    },
    {
      "cell_type": "code",
      "metadata": {
        "id": "5RzC_Pc6KBJg"
      },
      "source": [
        "# prepare models\n",
        "models = []\n",
        "models.append(('LR', LogisticRegression(solver = 'liblinear')))\n",
        "models.append(('LDA', LinearDiscriminantAnalysis()))\n",
        "models.append(('NB', GaussianNB()))\n",
        "models.append(('SVM', SVC()))\n",
        "models.append(('Percep', Perceptron()))\n",
        "models.append(('ANN',  MLPClassifier()))\n",
        "\n",
        "\n"
      ],
      "execution_count": null,
      "outputs": []
    },
    {
      "cell_type": "code",
      "metadata": {
        "colab": {
          "base_uri": "https://localhost:8080/"
        },
        "id": "IQZ6vgvYITey",
        "outputId": "8f7ed2e4-61af-49c8-9f6b-75ad2d339b32"
      },
      "source": [
        "# evaluate each model in turn\n",
        "results_test = []\n",
        "results_train = []\n",
        "names = []\n",
        "\n",
        "\n",
        "scoring = 'accuracy'\n",
        "for name, model in models:\n",
        "  \"\"\"\n",
        "\tkfold = model_selection.KFold(n_splits=7)\n",
        "\tcv_results = model_selection.cross_val_score(model, X, Y, cv=kfold, scoring=scoring)\n",
        "\tresults.append(cv_results*100)\n",
        "\tnames.append(name)\n",
        "\tmsg = \"%s: %f (%f)\" % (name, cv_results.mean(), cv_results.std())\n",
        "\tprint(msg)\n",
        " \"\"\"\n",
        "  names.append(name)\n",
        "  k = model_selection.KFold(7, random_state=1, shuffle = True)\n",
        "  accuracy_test = []\n",
        "  accuracy_train = []\n",
        "  for train_index, test_index in k.split(X):\n",
        "    \n",
        "    X_train, X_test = X[train_index], X[test_index]\n",
        "    y_train, y_test = Y[train_index], Y[test_index]\n",
        "    #importing model from sklearn \n",
        "    clf = model\n",
        "    clf.fit( X_train,  y_train)\n",
        "    \n",
        "    #predict class\n",
        "    test_pred = clf.predict(X_test)\n",
        "    train_pred = clf.predict(X_train)\n",
        "      \n",
        "    #calculating and appending accuracies\n",
        "    acc1_test = accuracy_score(y_test, test_pred)\n",
        "    accuracy_test.append(acc1_test)\n",
        "      \n",
        "    acc2_train = accuracy_score(y_train, train_pred)\n",
        "    accuracy_train.append(acc2_train)\n",
        "\n",
        "  results_train.append(accuracy_train)\n",
        "  results_test.append(accuracy_test)\n",
        "  #printing accuracies \n",
        "  print(\"%s:\" % (name))\n",
        "  print(\"Mean accuracy for test set = \", statistics.mean(accuracy_test))\n",
        "  print(\"Mean accuracy for train set = \", statistics.mean(accuracy_train))\n"
      ],
      "execution_count": null,
      "outputs": [
        {
          "output_type": "stream",
          "text": [
            "LR:\n",
            "Mean accuracy for test set =  0.8080823871041043\n",
            "Mean accuracy for train set =  0.8084044880451432\n",
            "LDA:\n",
            "Mean accuracy for test set =  0.9858676574468734\n",
            "Mean accuracy for train set =  0.9859316319843472\n",
            "NB:\n",
            "Mean accuracy for test set =  0.9686005911362758\n",
            "Mean accuracy for train set =  0.9685821667038693\n",
            "SVM:\n",
            "Mean accuracy for test set =  0.9788837766389588\n",
            "Mean accuracy for train set =  0.9789661862833886\n",
            "Percep:\n",
            "Mean accuracy for test set =  0.9816333771919404\n",
            "Mean accuracy for train set =  0.982549714577174\n"
          ],
          "name": "stdout"
        },
        {
          "output_type": "stream",
          "text": [
            "/usr/local/lib/python3.7/dist-packages/sklearn/neural_network/_multilayer_perceptron.py:571: ConvergenceWarning: Stochastic Optimizer: Maximum iterations (200) reached and the optimization hasn't converged yet.\n",
            "  % self.max_iter, ConvergenceWarning)\n",
            "/usr/local/lib/python3.7/dist-packages/sklearn/neural_network/_multilayer_perceptron.py:571: ConvergenceWarning: Stochastic Optimizer: Maximum iterations (200) reached and the optimization hasn't converged yet.\n",
            "  % self.max_iter, ConvergenceWarning)\n",
            "/usr/local/lib/python3.7/dist-packages/sklearn/neural_network/_multilayer_perceptron.py:571: ConvergenceWarning: Stochastic Optimizer: Maximum iterations (200) reached and the optimization hasn't converged yet.\n",
            "  % self.max_iter, ConvergenceWarning)\n",
            "/usr/local/lib/python3.7/dist-packages/sklearn/neural_network/_multilayer_perceptron.py:571: ConvergenceWarning: Stochastic Optimizer: Maximum iterations (200) reached and the optimization hasn't converged yet.\n",
            "  % self.max_iter, ConvergenceWarning)\n",
            "/usr/local/lib/python3.7/dist-packages/sklearn/neural_network/_multilayer_perceptron.py:571: ConvergenceWarning: Stochastic Optimizer: Maximum iterations (200) reached and the optimization hasn't converged yet.\n",
            "  % self.max_iter, ConvergenceWarning)\n"
          ],
          "name": "stderr"
        },
        {
          "output_type": "stream",
          "text": [
            "ANN:\n",
            "Mean accuracy for test set =  0.9842178674723066\n",
            "Mean accuracy for train set =  0.9843552426131827\n"
          ],
          "name": "stdout"
        },
        {
          "output_type": "stream",
          "text": [
            "/usr/local/lib/python3.7/dist-packages/sklearn/neural_network/_multilayer_perceptron.py:571: ConvergenceWarning: Stochastic Optimizer: Maximum iterations (200) reached and the optimization hasn't converged yet.\n",
            "  % self.max_iter, ConvergenceWarning)\n"
          ],
          "name": "stderr"
        }
      ]
    },
    {
      "cell_type": "code",
      "metadata": {
        "colab": {
          "base_uri": "https://localhost:8080/"
        },
        "id": "JWrh1uup9jvr",
        "outputId": "8dca8ff7-5bb0-4a73-fa19-ed1728b2e310"
      },
      "source": [
        "names"
      ],
      "execution_count": null,
      "outputs": [
        {
          "output_type": "execute_result",
          "data": {
            "text/plain": [
              "['LR', 'LDA', 'NB', 'SVM', 'Percep', 'ANN']"
            ]
          },
          "metadata": {
            "tags": []
          },
          "execution_count": 8
        }
      ]
    },
    {
      "cell_type": "code",
      "metadata": {
        "id": "uGOOTMzB9Xm6"
      },
      "source": [
        "dat = pd.DataFrame(np.array(results_test).T)"
      ],
      "execution_count": null,
      "outputs": []
    },
    {
      "cell_type": "code",
      "metadata": {
        "id": "n-sIWjZd9gRC"
      },
      "source": [
        "dat.columns = names"
      ],
      "execution_count": null,
      "outputs": []
    },
    {
      "cell_type": "code",
      "metadata": {
        "colab": {
          "base_uri": "https://localhost:8080/",
          "height": 744
        },
        "id": "hLMaVv32_KG5",
        "outputId": "64f04fa6-5cdd-4611-d5aa-2bfd715f5629"
      },
      "source": [
        "a4_dims = (20, 15)\n",
        "fig, ax = plt.subplots(figsize=a4_dims)\n",
        "sns.boxplot(ax = ax, x = 'variable', y = 'value', data = pd.melt(dat), showmeans = True)"
      ],
      "execution_count": null,
      "outputs": [
        {
          "output_type": "execute_result",
          "data": {
            "text/plain": [
              "<matplotlib.axes._subplots.AxesSubplot at 0x7f0e7216f790>"
            ]
          },
          "metadata": {
            "tags": []
          },
          "execution_count": 11
        },
        {
          "output_type": "display_data",
          "data": {
            "image/png": "[encoded data removed]",
            "text/plain": [
              "<Figure size 1440x1080 with 1 Axes>"
            ]
          },
          "metadata": {
            "tags": [],
            "needs_background": "light"
          }
        }
      ]
    },
    {
      "cell_type": "code",
      "metadata": {
        "id": "qeEZ9FBM8XAg"
      },
      "source": [
        ""
      ],
      "execution_count": null,
      "outputs": []
    },
    {
      "cell_type": "code",
      "metadata": {
        "id": "nCR_3R-jKIy9"
      },
      "source": [
        "\n"
      ],
      "execution_count": null,
      "outputs": []
    },
    {
      "cell_type": "code",
      "metadata": {
        "id": "FwZ93cVNSuRO"
      },
      "source": [
        ""
      ],
      "execution_count": null,
      "outputs": []
    }
  ]
}