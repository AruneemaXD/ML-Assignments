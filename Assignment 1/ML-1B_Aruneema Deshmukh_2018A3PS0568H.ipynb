{
  "nbformat": 4,
  "nbformat_minor": 0,
  "metadata": {
    "colab": {
      "name": "MLQ2.ipynb",
      "provenance": [],
      "collapsed_sections": []
    },
    "kernelspec": {
      "name": "python3",
      "display_name": "Python 3"
    }
  },
  "cells": [
    {
      "cell_type": "markdown",
      "metadata": {
        "id": "Fg-E_cP0lqvQ"
      },
      "source": [
        "## Assignment-1B: Naive Bayes Classifier"
      ]
    },
    {
      "cell_type": "code",
      "metadata": {
        "id": "3B3HK4lCvize"
      },
      "source": [
        "import numpy as np\n",
        "import pandas as pd\n",
        "import re\n",
        "from matplotlib import pyplot as plt"
      ],
      "execution_count": 442,
      "outputs": []
    },
    {
      "cell_type": "code",
      "metadata": {
        "id": "Hzd84jm3tBuZ"
      },
      "source": [
        "Words = set()\n",
        "cl = ['1','0']\n",
        "\n",
        "# Reading the text file\n",
        "f = open('input.txt', 'r')\n",
        "\n",
        "# Features\n",
        "for i, line in enumerate(f):\n",
        "    for word in line.split():\n",
        "      Words.add(re.sub(r'[^\\w\\s]', '',word))\n",
        "n = i+1 # Number of rows         \n",
        "f.close()\n",
        "\n",
        "# Dataset\n",
        "df = pd.DataFrame(0,index=range(n),columns = Words)\n",
        "# Class values \n",
        "y = pd.DataFrame(0,index=range(n),columns = cl) \n",
        "\n",
        "f = open('input.txt', 'r')\n",
        "for i, line in enumerate(f):\n",
        " for word in line.split():\n",
        "  w = re.sub(r'[^\\w\\s]', '',word) \n",
        "  df.at[i,w] += 1\n",
        " y.at[i,w] = 1\n",
        " df.at[i,w] -= 1\n",
        "f.close()\n",
        "\n",
        "# Target variable\n",
        "target= np.array(y['1'])"
      ],
      "execution_count": 443,
      "outputs": []
    },
    {
      "cell_type": "code",
      "metadata": {
        "id": "k_xnT83tBaEo",
        "colab": {
          "base_uri": "https://localhost:8080/"
        },
        "outputId": "acab9c67-6a7a-401f-b26a-7421dd0f1328"
      },
      "source": [
        "df.drop(columns =['', 'a', 'an', 'the', 'be'], axis = 1,inplace=True)\n",
        "print(df.head())\n",
        "y.rename(columns={'1': 'spam', '0': 'not spam'},inplace = True)\n",
        "print(y.head())"
      ],
      "execution_count": 444,
      "outputs": [
        {
          "output_type": "stream",
          "text": [
            "   incredibly  Happy  forget  nearly  ...  glued  accept  infuriating  Angeles\n",
            "0           0      0       0       0  ...      0       0            0        0\n",
            "1           0      0       0       0  ...      0       0            0        0\n",
            "2           0      0       0       0  ...      0       0            0        0\n",
            "3           0      0       0       0  ...      0       0            0        0\n",
            "4           0      0       0       0  ...      0       0            0        0\n",
            "\n",
            "[5 rows x 2217 columns]\n",
            "   spam  not spam\n",
            "0     0         1\n",
            "1     1         0\n",
            "2     1         0\n",
            "3     0         1\n",
            "4     1         0\n"
          ],
          "name": "stdout"
        }
      ]
    },
    {
      "cell_type": "code",
      "metadata": {
        "id": "UwYVZu3QhggQ"
      },
      "source": [
        "# Class prior probability \n",
        "n_spam = (y['spam'] == 1).sum()\n",
        "n_notspam = (y['not spam'] == 1).sum()\n",
        "prob_spam = n_spam/n\n",
        "prob_notspam = 1 - prob_spam"
      ],
      "execution_count": 445,
      "outputs": []
    },
    {
      "cell_type": "code",
      "metadata": {
        "id": "yT1O86bVoO0_"
      },
      "source": [
        "# Probabilities of predicting each class for a given row\n",
        "def predict(psw,x,prob_spam):\n",
        "  prob = (np.prod(np.multiply(psw,x)))*prob_spam # * Class Prior Probability\n",
        "  if prob > 0.5:\n",
        "   return 1 # Spam\n",
        "  else:\n",
        "    return 0 # Not Spam"
      ],
      "execution_count": 446,
      "outputs": []
    },
    {
      "cell_type": "code",
      "metadata": {
        "id": "YW3s_FUwihAO",
        "colab": {
          "base_uri": "https://localhost:8080/"
        },
        "outputId": "768d277c-2e9a-4f8b-a0f5-023a7465c433"
      },
      "source": [
        "data= np.array(df)\n",
        "\n",
        "# Features (numpy)\n",
        "X = data\n",
        "d = X.shape[1] # No of features\n",
        "m = n\n",
        "testsize = int(n/7) # For 7fold\n",
        "\n",
        "# Output y/ Target\n",
        "y_spam = np.array(y['spam'])\n",
        "y_notspam = np.array(y['not spam'])\n",
        "\n",
        "y = y_spam\n",
        "\n",
        "accuracies=[]\n",
        "model=1\n",
        "\n",
        "# Calculate accuracy for each fold (Runs 7 times)\n",
        "for index in range(0, m, testsize):\n",
        "  ts = testsize\n",
        "  if index + testsize > m:\n",
        "    break\n",
        "  X_train= np.concatenate((X[:m-index-ts,:],X[m-index:,:]),axis =0)\n",
        "  X_test= X[m-index-ts: m-index,:]\n",
        "  y_train= np.concatenate((y[:m-index-ts],y[m-index:]),axis =0)\n",
        "  y_train= y_train.reshape(len(y_train),1)\n",
        "  y_test= y[m-index-ts:m-index]\n",
        " \n",
        "\t# Posterior Probability (row vector)\n",
        "  prob_spam_word = np.zeros((1,d))\n",
        "  \n",
        "  Num = ((np.sum((X_train* y_train),axis = 0))/n_spam) # Likelihood \n",
        "  Den = ((np.sum((X_train* (1- y_train)),axis = 0))/n_spam)*prob_notspam + Num*prob_spam # Predictor Prior Probability\n",
        "  for i in range(d):\n",
        "    prob_spam_word[0, i] = (Num[i] +1)/ (Den[i]+d) # Laplace smoothing\n",
        " \n",
        "\n",
        "\n",
        " \n",
        "  correct=0\n",
        "  \n",
        "  # Testing\n",
        "  for i in range(len(X_test)):\n",
        "\t  y_pred = predict(prob_spam_word,X_test[i],prob_spam)\n",
        "\t  y_true = y_test[i]\n",
        "\t  if y_pred==y_true:\n",
        "\t\t  correct+=1\n",
        "\n",
        "  accuracy=correct/len(X_test)*100\n",
        "  print(\"Accuracy using Fold {0} is {1}%\".format(model,round(accuracy,2)))\n",
        "  accuracies.append(accuracy)\n",
        "  model+=1\n",
        "\n",
        "accuracies= np.array(accuracies)\n",
        "print(\"Average accuracy with K-Fold cross validation is {0} %\".format(round(np.mean(accuracies),2)))\n"
      ],
      "execution_count": 447,
      "outputs": [
        {
          "output_type": "stream",
          "text": [
            "Accuracy using Fold 1 is 53.52%\n",
            "Accuracy using Fold 2 is 50.0%\n",
            "Accuracy using Fold 3 is 54.93%\n",
            "Accuracy using Fold 4 is 50.7%\n",
            "Accuracy using Fold 5 is 45.77%\n",
            "Accuracy using Fold 6 is 47.89%\n",
            "Accuracy using Fold 7 is 47.18%\n",
            "Average accuracy with K-Fold cross validation is 50.0 %\n"
          ],
          "name": "stdout"
        }
      ]
    },
    {
      "cell_type": "markdown",
      "metadata": {
        "id": "g3eWNrg4lRIu"
      },
      "source": [
        "## Logistic regression algorithm for the binary classification for Comparison"
      ]
    },
    {
      "cell_type": "code",
      "metadata": {
        "id": "KbLttc7Kumhi"
      },
      "source": [
        "def sigmoid(x):\n",
        "\treturn 1.0/(1+np.exp(-x))\n",
        "\n",
        "def log_loss(y,y_hat):\n",
        "\tl= -y*np.log(y_hat)\n",
        "\tl-=(1-y)*np.log(1-y_hat)\n",
        "\treturn l\n",
        "\n",
        "def predict(w,x):\n",
        "\tz= x.dot(w.T)\n",
        "\ty_hat= sigmoid(z)\n",
        "\ty_hat= list(y_hat)\n",
        "\treturn y_hat.index(max(y_hat))"
      ],
      "execution_count": 448,
      "outputs": []
    },
    {
      "cell_type": "code",
      "metadata": {
        "id": "phn-mSZVrmHG",
        "colab": {
          "base_uri": "https://localhost:8080/",
          "height": 401
        },
        "outputId": "f4598b29-3f2f-4575-d7a1-c5f02f93f196"
      },
      "source": [
        "epochs=1000\n",
        "lr=0.1\n",
        "\n",
        "# Features\n",
        "data= np.array(df)\n",
        "X= data\n",
        "bias= np.ones((X.shape[0],1))\n",
        "testsize =int(n/7)\n",
        "X= np.hstack((X,bias))\n",
        "# Output y\n",
        "y_temp=target\n",
        "\n",
        "# Classes\n",
        "classes = np.unique(np.array(target), axis=0).size\n",
        "# Expand y\n",
        "y=[[1 if i==c else 0 for i in range(classes)]for c in y_temp]\n",
        "y=np.array(y)\n",
        "\n",
        "\n",
        "weights=[]\n",
        "accuracies=[]\n",
        "\n",
        "model=1\n",
        "\n",
        "# Find weight and calculate accuracy for each fold (Runs 7 times)\n",
        "for index in range(0, m, testsize):\n",
        "  ts = testsize\n",
        "  if index + testsize > m:\n",
        "    break\n",
        "  X_train= np.concatenate((X[:m-index-ts,:],X[m-index:,:]),axis =0)\n",
        "  X_test= X[m-index-ts: m-index,:]\n",
        "  y_train= np.concatenate((y[:m-index-ts],y[m-index:]),axis =0)\n",
        "  y_test= y[m-index-ts:m-index]\n",
        "\t\n",
        "\n",
        "  w= np.random.randn(classes,X.shape[1])\n",
        "  losses=[]\n",
        "\n",
        "\n",
        "  for _ in range(epochs):\n",
        "\t  z= X_train.dot(w.T)\n",
        "\t  y_hat= sigmoid(z)\n",
        "\t  loss= log_loss(y_train,y_hat)\n",
        "\t  epoch_loss= np.sum(loss)/y_train.shape[0]\n",
        "\t  losses.append(epoch_loss)\n",
        "\t  temp= y_hat-y_train\n",
        "\t  loss_der= temp.T.dot(X_train)/X_train.shape[0]\n",
        "\t  w-=lr*loss_der\n",
        "\n",
        "\n",
        "  plt.plot(losses,label=\"Loss using Fold {0}\".format(model))\n",
        "\n",
        "\n",
        "  correct=0\n",
        "  # Testing\n",
        "  for i in range(len(X_test)):\n",
        "\t  y_pred= predict(w,X_test[i])\n",
        "\t  y_t=list(y_test[i])\n",
        "\t  y_true= y_t.index(max(y_t))\n",
        "\t  if y_pred==y_true:\n",
        "\t\t  correct+=1\n",
        "\n",
        "  accuracy=correct/len(X_test)*100\n",
        "  print(\"Accuracy using Fold {0} is {1}%\".format(model,round(accuracy,2)))\n",
        "  accuracies.append(accuracy)\n",
        "  weights.append(w)\n",
        "  model+=1\n",
        "\n",
        "accuracies= np.array(accuracies)\n",
        "print(\"Average accuracy with K-Fold cross validation is {0} %\".format(round(np.mean(accuracies),2)))\n",
        "\n",
        "plt.legend(loc=\"upper right\")\n",
        "plt.show()"
      ],
      "execution_count": 449,
      "outputs": [
        {
          "output_type": "stream",
          "text": [
            "Accuracy using Fold 1 is 59.86%\n",
            "Accuracy using Fold 2 is 66.2%\n",
            "Accuracy using Fold 3 is 61.97%\n",
            "Accuracy using Fold 4 is 64.79%\n",
            "Accuracy using Fold 5 is 57.75%\n",
            "Accuracy using Fold 6 is 64.79%\n",
            "Accuracy using Fold 7 is 59.15%\n",
            "Average accuracy with K-Fold cross validation is 62.07 %\n"
          ],
          "name": "stdout"
        },
        {
          "output_type": "display_data",
          "data": {
            "image/png": "[encoded data removed]",
            "text/plain": [
              "<Figure size 432x288 with 1 Axes>"
            ]
          },
          "metadata": {
            "tags": [],
            "needs_background": "light"
          }
        }
      ]
    }
  ]
}