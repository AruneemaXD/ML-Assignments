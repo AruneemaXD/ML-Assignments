{
 "cells": [
  {
   "cell_type": "code",
   "execution_count": 50,
   "metadata": {},
   "outputs": [],
   "source": [
    "import numpy as np\n",
    "import time\n"
   ]
  },
  {
   "cell_type": "code",
   "execution_count": 51,
   "metadata": {},
   "outputs": [],
   "source": [
    "first = np.genfromtxt(r'C:\\Users\\akumb\\Downloads\\LP1.txt',delimiter =',', dtype = 'float32')"
   ]
  },
  {
   "cell_type": "code",
   "execution_count": 52,
   "metadata": {},
   "outputs": [
    {
     "data": {
      "text/plain": [
       "array([[  3.6216 ,   8.6661 ,  -2.8073 ,  -0.44699,   0.     ],\n",
       "       [  4.5459 ,   8.1674 ,  -2.4586 ,  -1.4621 ,   0.     ],\n",
       "       [  3.866  ,  -2.6383 ,   1.9242 ,   0.10645,   0.     ],\n",
       "       ...,\n",
       "       [ -3.7503 , -13.4586 ,  17.5932 ,  -2.7771 ,   1.     ],\n",
       "       [ -3.5637 ,  -8.3827 ,  12.393  ,  -1.2823 ,   1.     ],\n",
       "       [ -2.5419 ,  -0.65804,   2.6842 ,   1.1952 ,   1.     ]],\n",
       "      dtype=float32)"
      ]
     },
     "execution_count": 52,
     "metadata": {},
     "output_type": "execute_result"
    }
   ],
   "source": [
    "first"
   ]
  },
  {
   "cell_type": "code",
   "execution_count": null,
   "metadata": {},
   "outputs": [],
   "source": []
  },
  {
   "cell_type": "code",
   "execution_count": 53,
   "metadata": {},
   "outputs": [],
   "source": [
    "def algoperc(tx,ty,l,iters,wts):\n",
    "    #l : Learning rate\n",
    "    #itrs : number of iterations\n",
    "    #w : intiaL value of omega vector\n",
    "    length = tx.shape[0]\n",
    "    n = tx.shape[1]+1\n",
    "\n",
    "    tx = np.hstack((np.ones((length,1)),tx))\n",
    "    mis = 0\n",
    "    newy = np.matmul(tx,wts)\n",
    "    phi = newy*ty\n",
    "    flag = False\n",
    "    for j in range(iters):\n",
    "        mis = 0\n",
    "        for i in range(length):\n",
    "            if flag:\n",
    "                newy = np.matmul(tx,wts)\n",
    "                phi = newy*ty\n",
    "                flag = False\n",
    "            if phi[i,0]<0:\n",
    "                wts += tx[i].reshape((n,1))*ty[i,0]*1\n",
    "                mis += 1\n",
    "                flag = True\n",
    "        if mis==0:\n",
    "            break\n",
    "\n",
    "    print(\"iteration number :\",j,\"no. of miscalssified examples:\",mis)\n",
    "\n",
    "    return wts\n"
   ]
  },
  {
   "cell_type": "code",
   "execution_count": 54,
   "metadata": {},
   "outputs": [],
   "source": [
    "def split(df):\n",
    "    dx = df[:,:-1]\n",
    "    n = int(df.shape[0]*0.7)\n",
    "    trx=dx[: n,:] \n",
    "    tx =dx[n:,:] \n",
    "    dy = df[:,-1]\n",
    "    indss = np.where(dy==0)\n",
    "    indss = np.array(indss[0]) \n",
    "    dy[indss] = np.full((indss.size,),-1)\n",
    "    dy = dy.reshape((df.shape[0],1))\n",
    "    trry = dy[:n,:]\n",
    "    ty = dy[n:,:]\n",
    "    return trx,tx,trry, ty"
   ]
  },
  {
   "cell_type": "code",
   "execution_count": 55,
   "metadata": {},
   "outputs": [],
   "source": [
    "def acc(tx,ty,wts):\n",
    "    l = tx.shape[0]\n",
    "    tx = np.hstack((np.ones((l,1)),tx))\n",
    "    p = np.dot(tx,wts)\n",
    "    phi = p * ty\n",
    "    m = 0\n",
    "    for i in range(l):\n",
    "        if(phi[i,0]<0):\n",
    "            m+=1\n",
    "    \n",
    "    print()\n",
    "    percentage = ((l - m)/l)*100\n",
    "    return percentage"
   ]
  },
  {
   "cell_type": "code",
   "execution_count": 56,
   "metadata": {},
   "outputs": [],
   "source": [
    "trx1,tx1,try1,ty1 = split(first)"
   ]
  },
  {
   "cell_type": "code",
   "execution_count": null,
   "metadata": {},
   "outputs": [],
   "source": []
  },
  {
   "cell_type": "code",
   "execution_count": 57,
   "metadata": {},
   "outputs": [
    {
     "name": "stdout",
     "output_type": "stream",
     "text": [
      "iteration number : 9999 no. of miscalssified examples: 10\n"
     ]
    }
   ],
   "source": [
    "wts1 = algoperc(trx1,try1,0.03,10**6,np.float32(np.random.rand(first.shape[1],1)))"
   ]
  },
  {
   "cell_type": "code",
   "execution_count": 58,
   "metadata": {},
   "outputs": [],
   "source": [
    "second = np.loadtxt(r'C:\\Users\\akumb\\Downloads\\dataset_LP_2.csv', delimiter=\",\",dtype='float32')"
   ]
  },
  {
   "cell_type": "code",
   "execution_count": 59,
   "metadata": {},
   "outputs": [
    {
     "data": {
      "text/plain": [
       "array([[-6.6724186 , -1.2061983 , -1.0810499 ,  0.        ],\n",
       "       [ 1.6755977 ,  0.6149943 , -0.9716001 ,  0.        ],\n",
       "       [-4.039058  ,  0.33510238,  0.54461753,  1.        ],\n",
       "       ...,\n",
       "       [-0.81442964, -0.6939448 ,  0.87677634,  1.        ],\n",
       "       [-0.32512155, -0.7590237 ,  1.2997724 ,  1.        ],\n",
       "       [-1.5034306 , -0.26945838, -1.1243898 ,  0.        ]],\n",
       "      dtype=float32)"
      ]
     },
     "execution_count": 59,
     "metadata": {},
     "output_type": "execute_result"
    }
   ],
   "source": [
    "second"
   ]
  },
  {
   "cell_type": "code",
   "execution_count": 60,
   "metadata": {},
   "outputs": [],
   "source": [
    "trx2,tx2,try2,ty2 = split(second)"
   ]
  },
  {
   "cell_type": "code",
   "execution_count": null,
   "metadata": {},
   "outputs": [],
   "source": []
  },
  {
   "cell_type": "code",
   "execution_count": 61,
   "metadata": {},
   "outputs": [
    {
     "name": "stdout",
     "output_type": "stream",
     "text": [
      "iteration number : 1 no. of miscalssified examples: 0\n"
     ]
    }
   ],
   "source": [
    "wts2 = algoperc(trx2,try2,0.03,10**6,np.float32(np.random.rand(second.shape[1],1)))\n"
   ]
  },
  {
   "cell_type": "code",
   "execution_count": 62,
   "metadata": {},
   "outputs": [
    {
     "name": "stdout",
     "output_type": "stream",
     "text": [
      "\n",
      "The accuracy of perceptron on dataset 1 :  99.27184466019418\n"
     ]
    }
   ],
   "source": [
    "print('The accuracy of perceptron on dataset 1 : ',acc(tx1,ty1,wts1))"
   ]
  },
  {
   "cell_type": "code",
   "execution_count": 63,
   "metadata": {},
   "outputs": [
    {
     "name": "stdout",
     "output_type": "stream",
     "text": [
      "\n",
      "The accuracy of perceptron on dataset 2 :  99.66666666666667\n"
     ]
    }
   ],
   "source": [
    "print('The accuracy of perceptron on dataset 2 : ',acc(tx2,ty2,wts2))"
   ]
  },
  {
   "cell_type": "code",
   "execution_count": null,
   "metadata": {},
   "outputs": [],
   "source": []
  },
  {
   "cell_type": "code",
   "execution_count": null,
   "metadata": {},
   "outputs": [],
   "source": []
  },
  {
   "cell_type": "code",
   "execution_count": null,
   "metadata": {},
   "outputs": [],
   "source": []
  }
 ],
 "metadata": {
  "kernelspec": {
   "display_name": "Python 3",
   "language": "python",
   "name": "python3"
  },
  "language_info": {
   "codemirror_mode": {
    "name": "ipython",
    "version": 3
   },
   "file_extension": ".py",
   "mimetype": "text/x-python",
   "name": "python",
   "nbconvert_exporter": "python",
   "pygments_lexer": "ipython3",
   "version": "3.9.2"
  }
 },
 "nbformat": 4,
 "nbformat_minor": 4
}
